{
 "cells": [
  {
   "cell_type": "code",
   "execution_count": 1,
   "metadata": {},
   "outputs": [],
   "source": [
    "import pandas as pd\n",
    "import numpy as np\n",
    "import scipy\n",
    "import matplotlib.pyplot as plt\n",
    "\n",
    "%matplotlib inline"
   ]
  },
  {
   "cell_type": "markdown",
   "metadata": {},
   "source": [
    "## Functions to clean up Kevin's data with weird time formats"
   ]
  },
  {
   "cell_type": "code",
   "execution_count": 2,
   "metadata": {},
   "outputs": [],
   "source": [
    "# Cleaning up Kevin's Data\n",
    "\n",
    "import pandas as pd\n",
    "import numpy as np\n",
    "\n",
    "def fixing_time_str(df):\n",
    "    time = np.zeros(len(df['TestTime']))\n",
    "\n",
    "    for i in range(len(df['TestTime'])):\n",
    "        if '-' not in df['TestTime'][i]:\n",
    "            hr = float(df['TestTime'][i].split(':')[0]) * 3600\n",
    "            mins = float(df['TestTime'][i].split(':')[1]) * 60\n",
    "            sec = float(df['TestTime'][i].split(':')[2])\n",
    "            time[i] = hr + mins + sec\n",
    "        if '-' in df['TestTime'][i]:\n",
    "            day = float(df['TestTime'][i].split('-')[0])*86400\n",
    "            idx2 = df['TestTime'][i].split('-')[1]\n",
    "            hr = float(idx2.split(':')[0]) * 3600\n",
    "            mins = float(idx2.split(':')[1]) * 60\n",
    "            sec = float(idx2.split(':')[2])\n",
    "            time[i] = day + hr + mins+ sec\n",
    "    \n",
    "    df['Time'] = pd.Series(data = time)\n",
    "            \n",
    "    return df"
   ]
  },
  {
   "cell_type": "markdown",
   "metadata": {},
   "source": [
    "## Functions to separate out each pulse"
   ]
  },
  {
   "cell_type": "code",
   "execution_count": 3,
   "metadata": {},
   "outputs": [],
   "source": [
    "import pandas as pd\n",
    "import numpy as np\n",
    "\n",
    "def pulse_separations(df):\n",
    "    d = {}\n",
    "    current = np.array(df['Current'])\n",
    "    workingcurrent = np.argwhere(current != 0)\n",
    "    startidx = int(workingcurrent[0])\n",
    "    cycle = 0\n",
    "\n",
    "    for i in range(len(workingcurrent)-1):\n",
    "        if workingcurrent[i + 1] - workingcurrent[i] != 1:\n",
    "            endidx = int(workingcurrent[i +1] - 1)\n",
    "            d[cycle] = df[startidx:endidx]\n",
    "            d[cycle] = d[cycle].reset_index(drop = True)\n",
    "\n",
    "            startidx = int(workingcurrent[i +1])\n",
    "            cycle = cycle + 1\n",
    "    \n",
    "    return d"
   ]
  },
  {
   "cell_type": "code",
   "execution_count": 4,
   "metadata": {},
   "outputs": [],
   "source": [
    "def transient_pulses(df):\n",
    "    import pandas as pd    \n",
    "    d = pulse_separations(df)\n",
    "    d_trans = {}\n",
    "    dkeys = d.keys()\n",
    "\n",
    "    for key in dkeys:\n",
    "        mask = d[key]['Current'] != 0\n",
    "        d_trans[key] = d[key][mask]\n",
    "        d_trans[key] = d_trans[key].reset_index(drop = True)\n",
    "        d_trans[key]['sqrt_time_diff'] = np.sqrt(d_trans[key]['Time'] - d_trans[key]['Time'][0])\n",
    "    \n",
    "    return d_trans"
   ]
  },
  {
   "cell_type": "code",
   "execution_count": 5,
   "metadata": {},
   "outputs": [],
   "source": [
    "def relaxation_pulses(df):\n",
    "    import pandas as pd\n",
    "    d = pulse_separations(df)\n",
    "    d_relax = {}\n",
    "    dkeys = d.keys()\n",
    "    \n",
    "    for key in dkeys:\n",
    "        mask = d[key]['Current'] == 0\n",
    "        d_relax[key] = d[key][mask]\n",
    "        d_relax[key] = d_trans[key].reset_index(drop = True)\n",
    "        d_relax[key]['sqrt_time_diff'] = np.sqrt(d_relax[key]['Time'] - d_relax[key]['Time'][0])\n",
    "    \n",
    "    return d_relax"
   ]
  },
  {
   "cell_type": "markdown",
   "metadata": {},
   "source": [
    "## Computes linear regression\n",
    "\n",
    "Steps through the whole dataset and uses linear regression over a certain window of the data and calculates the MSE of each linear fit."
   ]
  },
  {
   "cell_type": "code",
   "execution_count": 6,
   "metadata": {},
   "outputs": [],
   "source": [
    "def find_linear_fit(x, y, window):\n",
    "    \"\"\"\"\"\"\n",
    "    from sklearn.linear_model import LinearRegression\n",
    "    from sklearn.metrics import mean_squared_error\n",
    "\n",
    "    n = window//2\n",
    "    coefs = []\n",
    "    mses = []\n",
    "    intcs = []\n",
    "    starts = []\n",
    "    ends = []\n",
    "\n",
    "    for i in range(n,int(len(x)-n)):\n",
    "        x_range = np.array(x[(i-n):(i+n)]).reshape(-1, 1)\n",
    "        y_range = np.array(y[(i-n):(i+n)]).reshape(-1, 1)\n",
    "\n",
    "        lin_model = LinearRegression()\n",
    "        lin_model.fit(x_range, y_range)\n",
    "        y_pred = lin_model.predict(y_range)\n",
    "        coef = lin_model.coef_\n",
    "        intc = lin_model.intercept_\n",
    "        mse = mean_squared_error(y_range, y_pred)\n",
    "        startidx = int(i - n)\n",
    "        endidx = int(i + n)\n",
    "\n",
    "        starts.append(startidx)\n",
    "        ends.append(endidx)\n",
    "        coefs.append(coef.flatten()[0])\n",
    "        intcs.append(intc.flatten()[0])\n",
    "        mses.append(mse)\n",
    "\n",
    "        data = pd.DataFrame()\n",
    "        data['start_idx'] = pd.Series(data = starts)\n",
    "        data['end_idx'] = pd.Series(data = ends)\n",
    "        data['coefs'] = pd.Series(data = coefs)\n",
    "        data['intcs'] = pd.Series(data = intcs)\n",
    "        data['mses'] = pd.Series(data = mses)\n",
    "    \n",
    "    return data"
   ]
  },
  {
   "cell_type": "code",
   "execution_count": 7,
   "metadata": {},
   "outputs": [],
   "source": [
    "def index_finder(df):\n",
    "    \"\"\"Finds the \"\"\"\n",
    "    import pandas as pd\n",
    "    start_idx = int(df[df['mses'] == df['mses'].min()]['start_idx'])\n",
    "    end_idx = int(df[df['mses'] == df['mses'].min()]['end_idx'])\n",
    "    intc = float(df[df['mses'] == df['mses'].min()]['intcs'])\n",
    "    coef = float(df[df['mses'] == df['mses'].min()]['coefs'])\n",
    "    return (start_idx, end_idx), (intc, coef)"
   ]
  },
  {
   "cell_type": "markdown",
   "metadata": {},
   "source": [
    "## Finding $\\Delta$E and $D_{eff}$"
   ]
  },
  {
   "cell_type": "code",
   "execution_count": 8,
   "metadata": {},
   "outputs": [],
   "source": [
    "import pandas as pd\n",
    "import numpy as np\n",
    "\n",
    "def find_delEs(d_relax,startcycle):\n",
    "    delEs_array=np.zeros(len(d_relax)-startcycle)\n",
    "    ind=0\n",
    "    for i in range(startcycle,len(d_relax)-1):\n",
    "        delEs_array[ind]=float(d_relax[i+1].iloc[-1]['Voltage']-d_relax[i].iloc[-1]['Voltage'])\n",
    "        ind=ind+1\n",
    "        \n",
    "    return delEs_array"
   ]
  },
  {
   "cell_type": "code",
   "execution_count": 9,
   "metadata": {},
   "outputs": [],
   "source": [
    "# Eq 37 in Weppner & Hugins 1977 paper\n",
    "\n",
    "# m = mass of component in sample\n",
    "# M = atomic  weight of component\n",
    "# V = molar volume of sample\n",
    "# S = total area of contact between electrolyte and electrode\n",
    "# tau = length of current pulse\n",
    "# delEs = change of steady state voltage of cell at each step\n",
    "# dE_dsqrt_t = dE/dsqrt(t)\n",
    "# Deff = effective diffusion coefficient\n",
    "import numpy as np\n",
    "\n",
    "def find_diffusion_coeff(m,M,V,S,tau,delEs,dE_dsqrt_t):\n",
    "    Deff = 4/np.pi*(m*V/(M*S))**2*(delEs/(tau*dE_dsqrt_t))**2\n",
    "    \n",
    "    return Deff"
   ]
  },
  {
   "cell_type": "markdown",
   "metadata": {},
   "source": [
    "## Visualization function for a single cycle"
   ]
  },
  {
   "cell_type": "code",
   "execution_count": 10,
   "metadata": {},
   "outputs": [],
   "source": [
    "def plot_results(x, y, window):\n",
    "    \"\"\"Plots the results of an individual cycle\"\"\"\n",
    "    import matplotlib.pyplot as plt\n",
    "    import numpy as np\n",
    "    import pandas as pd\n",
    "    \n",
    "    df = find_linear_fit(x, y, window)\n",
    "    indices, params = index_finder(df)\n",
    "    \n",
    "    fig = plt.figure(figsize = (3,3), dpi = 150)\n",
    "    x_lin = np.linspace(x[indices[0]], x[indices[1]])\n",
    "    y_lin = params[0] + x_lin*params[1]\n",
    "    plt.plot(x, y, label = 'Experimental Data', alpha = 0.5, lw = 0.5)\n",
    "    plt.plot(x_lin, y_lin)\n",
    "    plt.xlabel(r'$\\sqrt{t}$', fontsize = 14)\n",
    "    plt.ylabel(r'$\\frac{dE}{d\\sqrt{t}}$', fontsize = 14)\n",
    "    plt.title('GITT Results')\n",
    "    plt.legend(fontsize = 'small')\n",
    "    print('The slope of the linear fit is', params[1], 'V*sec^(-1/2)')\n",
    "    print('The mean_squared error of the fit is', df['mses'].min())"
   ]
  },
  {
   "cell_type": "markdown",
   "metadata": {},
   "source": [
    "## Finding slope of all cycles"
   ]
  },
  {
   "cell_type": "code",
   "execution_count": 11,
   "metadata": {},
   "outputs": [],
   "source": [
    "def find_slope_all_cycles(d,num_cycles):\n",
    "    slope_array = np.zeros(num_cycles)\n",
    "    cyc_array = np.zeros(num_cycles)\n",
    "    ind = 0\n",
    "    for cycle in list(d_trans.keys()):\n",
    "        data = find_linear_fit(x = d[cycle]['sqrt_time_diff'], y = d[cycle]['Voltage'], window = 300)\n",
    "        indices, params = index_finder(data) # gives min\n",
    "        slope_array[ind] = params[1]\n",
    "        cyc_array[ind]= cycle\n",
    "        ind = ind + 1\n",
    "        \n",
    "    return slope_array, cyc_array"
   ]
  },
  {
   "cell_type": "markdown",
   "metadata": {},
   "source": [
    "#### Importing data, cleaning it, then separating out the cycles, and then attempting to solve for the Diffusion coefficients with aphysical parameters..."
   ]
  },
  {
   "cell_type": "code",
   "execution_count": 12,
   "metadata": {},
   "outputs": [],
   "source": [
    "gitt = pd.read_csv('./gitt1.csv')\n",
    "gitt = fixing_time_str(gitt)\n",
    "gitt = gitt.rename(index = str, columns = {'Voltage/V': 'Voltage', 'Current/mA' : 'Current'})\n",
    "d_trans = transient_pulses(gitt)\n",
    "d_relax = relaxation_pulses(gitt)\n",
    "num_cycles = len(d_trans)"
   ]
  },
  {
   "cell_type": "code",
   "execution_count": 13,
   "metadata": {},
   "outputs": [],
   "source": [
    "slope_array, cyc_array = find_slope_all_cycles(d_trans,num_cycles)\n",
    "startcycle=1\n",
    "delEs_array = find_delEs(d_relax,startcycle)\n",
    "delEs_array = np.append(delEs_array,delEs_array[-1])"
   ]
  },
  {
   "cell_type": "code",
   "execution_count": 14,
   "metadata": {},
   "outputs": [],
   "source": [
    "m = 1\n",
    "M = 1\n",
    "V = 1\n",
    "S = 1\n",
    "tau = 1200\n",
    "\n",
    "D = find_diffusion_coeff(m,M,V,S,tau,delEs_array,slope_array)"
   ]
  },
  {
   "cell_type": "code",
   "execution_count": null,
   "metadata": {},
   "outputs": [],
   "source": []
  },
  {
   "cell_type": "markdown",
   "metadata": {},
   "source": [
    "# Raw data of the GITT Experiments"
   ]
  },
  {
   "cell_type": "code",
   "execution_count": 15,
   "metadata": {},
   "outputs": [
    {
     "data": {
      "image/png": "[encoded data removed]",
      "text/plain": [
       "<matplotlib.figure.Figure at 0x1a1d793978>"
      ]
     },
     "metadata": {},
     "output_type": "display_data"
    }
   ],
   "source": [
    "plt.plot(gitt['Time'],gitt['Current'])\n",
    "plt.xlabel('Time (s)')\n",
    "plt.ylabel('Current (mA)')\n",
    "plt.show()"
   ]
  },
  {
   "cell_type": "code",
   "execution_count": 16,
   "metadata": {},
   "outputs": [
    {
     "data": {
      "image/png": "[encoded data removed]",
      "text/plain": [
       "<matplotlib.figure.Figure at 0x1a1d75c080>"
      ]
     },
     "metadata": {},
     "output_type": "display_data"
    }
   ],
   "source": [
    "plt.plot(gitt['Time'],gitt['Voltage'])\n",
    "plt.xlabel('Time (s)')\n",
    "plt.ylabel('Voltage (V)')\n",
    "plt.show()"
   ]
  },
  {
   "cell_type": "markdown",
   "metadata": {},
   "source": [
    "### Results of one individual cycle"
   ]
  },
  {
   "cell_type": "code",
   "execution_count": 18,
   "metadata": {},
   "outputs": [
    {
     "name": "stdout",
     "output_type": "stream",
     "text": [
      "The slope of the linear fit is -0.0002883457824577088 V*sec^(-1/2)\n",
      "The mean_squared error of the fit is 6.70915476244e-05\n"
     ]
    },
    {
     "data": {
      "image/png": "[encoded data removed]",
      "text/plain": [
       "<matplotlib.figure.Figure at 0x1a1d9c93c8>"
      ]
     },
     "metadata": {},
     "output_type": "display_data"
    }
   ],
   "source": [
    "cycle = 10\n",
    "plot_results(x = d_trans[cycle]['sqrt_time_diff'], y = d_trans[cycle]['Voltage'], window = 500)"
   ]
  },
  {
   "cell_type": "markdown",
   "metadata": {},
   "source": [
    "### Slopes as a function of cycle number\n",
    "\n",
    "Cycle 25? In between charge and discharge"
   ]
  },
  {
   "cell_type": "code",
   "execution_count": 19,
   "metadata": {},
   "outputs": [
    {
     "data": {
      "image/png": "[encoded data removed]",
      "text/plain": [
       "<matplotlib.figure.Figure at 0x1a1d9c9748>"
      ]
     },
     "metadata": {},
     "output_type": "display_data"
    }
   ],
   "source": [
    "plt.plot(cyc_array[2:], slope_array[2:])\n",
    "plt.xlabel('Cycle number')\n",
    "plt.ylabel(r'$\\frac{dE}{d\\sqrt{t}}$',fontsize=20)\n",
    "plt.show()"
   ]
  },
  {
   "cell_type": "code",
   "execution_count": null,
   "metadata": {},
   "outputs": [],
   "source": []
  }
 ],
 "metadata": {
  "kernelspec": {
   "display_name": "Python 3",
   "language": "python",
   "name": "python3"
  },
  "language_info": {
   "codemirror_mode": {
    "name": "ipython",
    "version": 3
   },
   "file_extension": ".py",
   "mimetype": "text/x-python",
   "name": "python",
   "nbconvert_exporter": "python",
   "pygments_lexer": "ipython3",
   "version": "3.6.3"
  }
 },
 "nbformat": 4,
 "nbformat_minor": 2
}

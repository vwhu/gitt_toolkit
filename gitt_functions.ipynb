{
 "cells": [
  {
   "cell_type": "code",
   "execution_count": 118,
   "metadata": {},
   "outputs": [],
   "source": [
    "import pandas as pd\n",
    "import numpy as np\n",
    "import scipy\n",
    "import matplotlib.pyplot as plt\n",
    "\n",
    "%matplotlib inline"
   ]
  },
  {
   "cell_type": "code",
   "execution_count": 119,
   "metadata": {},
   "outputs": [],
   "source": [
    "# Cleaning up Kevin's Data\n",
    "\n",
    "import pandas as pd\n",
    "import numpy as np\n",
    "\n",
    "def fixing_time_str(df):\n",
    "    time = np.zeros(len(df['TestTime']))\n",
    "\n",
    "    for i in range(len(df['TestTime'])):\n",
    "        if '-' not in df['TestTime'][i]:\n",
    "            hr = float(df['TestTime'][i].split(':')[0]) * 3600\n",
    "            mins = float(df['TestTime'][i].split(':')[1]) * 60\n",
    "            sec = float(df['TestTime'][i].split(':')[2])\n",
    "            time[i] = hr + mins + sec\n",
    "        if '-' in df['TestTime'][i]:\n",
    "            day = float(df['TestTime'][i].split('-')[0])*86400\n",
    "            idx2 = df['TestTime'][i].split('-')[1]\n",
    "            hr = float(idx2.split(':')[0]) * 3600\n",
    "            mins = float(idx2.split(':')[1]) * 60\n",
    "            sec = float(idx2.split(':')[2])\n",
    "            time[i] = day + hr + mins+ sec\n",
    "    \n",
    "    df['Time'] = pd.Series(data = time)\n",
    "            \n",
    "    return df"
   ]
  },
  {
   "cell_type": "code",
   "execution_count": 120,
   "metadata": {},
   "outputs": [],
   "source": [
    "import pandas as pd\n",
    "import numpy as np\n",
    "\n",
    "def pulse_separations(df):\n",
    "    d = {}\n",
    "    current = np.array(df['Current'])\n",
    "    workingcurrent = np.argwhere(current != 0)\n",
    "    startidx = int(workingcurrent[0])\n",
    "    cycle = 1\n",
    "\n",
    "    for i in range(len(workingcurrent)-1):\n",
    "        if workingcurrent[i + 1] - workingcurrent[i] != 1:\n",
    "            endidx = int(workingcurrent[i +1] - 1)\n",
    "            d[cycle] = df[startidx:endidx]\n",
    "            d[cycle] = d[cycle].reset_index(drop = True)\n",
    "\n",
    "            startidx = int(workingcurrent[i +1])\n",
    "            cycle = cycle + 1\n",
    "    \n",
    "    return d\n",
    "                       "
   ]
  },
  {
   "cell_type": "code",
   "execution_count": 121,
   "metadata": {},
   "outputs": [],
   "source": [
    "import pandas as pd\n",
    "\n",
    "def transient_pulses(df):\n",
    "    \n",
    "    d = pulse_separations(df)\n",
    "    \n",
    "    d_trans = {}\n",
    "    dkeys = d.keys()\n",
    "\n",
    "    for key in dkeys:\n",
    "        mask = d[key]['Current'] != 0\n",
    "        d_trans[key] = d[key][mask]\n",
    "        d_trans[key] = d_trans[key].reset_index(drop = True)\n",
    "\n",
    "        d_trans[key]['sqrt_time_diff'] = np.sqrt(d_trans[key]['Time'] - d_trans[key]['Time'][0])\n",
    "    \n",
    "    return d_trans"
   ]
  },
  {
   "cell_type": "code",
   "execution_count": 140,
   "metadata": {},
   "outputs": [],
   "source": [
    "def find_linear_fit(x, y, window):\n",
    "    from sklearn.linear_model import LinearRegression\n",
    "    from sklearn.metrics import mean_squared_error\n",
    "\n",
    "    n = window//2\n",
    "    coefs = []\n",
    "    mses = []\n",
    "    intcs = []\n",
    "    starts = []\n",
    "    ends = []\n",
    "\n",
    "    for i in range(n,int(len(x)-n)):\n",
    "        x_range = np.array(x[(i-n):(i+n)]).reshape(-1, 1)\n",
    "        y_range = np.array(y[(i-n):(i+n)]).reshape(-1, 1)\n",
    "\n",
    "        lin_model = LinearRegression()\n",
    "        lin_model.fit(x_range, y_range)\n",
    "        y_pred = lin_model.predict(y_range)\n",
    "        coef = lin_model.coef_\n",
    "        intc = lin_model.intercept_\n",
    "        mse = mean_squared_error(y_range, y_pred)\n",
    "        startidx = int(i - n)\n",
    "        endidx = int(i + n)\n",
    "\n",
    "        starts.append(startidx)\n",
    "        ends.append(endidx)\n",
    "        coefs.append(coef.flatten()[0])\n",
    "        intcs.append(intc.flatten()[0])\n",
    "        mses.append(mse)\n",
    "\n",
    "        data = pd.DataFrame()\n",
    "        data['start_idx'] = pd.Series(data = starts)\n",
    "        data['end_idx'] = pd.Series(data = ends)\n",
    "        data['coefs'] = pd.Series(data = coefs)\n",
    "        data['intcs'] = pd.Series(data = intcs)\n",
    "        data['mses'] = pd.Series(data = mses)\n",
    "    \n",
    "    return data"
   ]
  },
  {
   "cell_type": "code",
   "execution_count": 123,
   "metadata": {},
   "outputs": [],
   "source": [
    "def index_finder(df):\n",
    "    start_idx = int(df[df['mses'] == df['mses'].min()]['start_idx'])\n",
    "    end_idx = int(df[df['mses'] == df['mses'].min()]['end_idx'])\n",
    "    intc = float(df[df['mses'] == df['mses'].min()]['intcs'])\n",
    "    coef = float(df[df['mses'] == df['mses'].min()]['coefs'])\n",
    "    return (start_idx, end_idx), (intc, coef)"
   ]
  },
  {
   "cell_type": "code",
   "execution_count": 159,
   "metadata": {},
   "outputs": [],
   "source": [
    "def plot_results(df):\n",
    "    import matplotlib.pyplot as plt\n",
    "    import numpy as np\n",
    "    import pandas as pd\n",
    "    \n",
    "    indices, params = index_finder(df)\n",
    "    \n",
    "    fig = plt.figure(figsize = (3,3), dpi = 150)\n",
    "    x_lin = np.linspace(d[cycle]['sqrt_time_diff'][indices[0]], d[cycle]['sqrt_time_diff'][indices[1]])\n",
    "    y_lin = params[0] + x_lin*params[1]\n",
    "    plt.plot(d[cycle]['sqrt_time_diff'], d[cycle]['Voltage'], label = 'Experimental Data', alpha = 0.5, lw = 0.5)\n",
    "    plt.plot(x_lin, y_lin)\n",
    "    plt.xlabel(r'$\\sqrt{t}$', fontsize = 14)\n",
    "    plt.ylabel(r'$\\frac{dE}{d\\sqrt{t}}$', fontsize = 14)\n",
    "    plt.title('GITT Results')\n",
    "    plt.legend(fontsize = 'small')\n",
    "    print('The slope of the linear fit is', params[1], 'V*sec^(-1/2)')\n",
    "    print('The mean_squared error of the fit is', df['mses'].min())"
   ]
  },
  {
   "cell_type": "code",
   "execution_count": 129,
   "metadata": {},
   "outputs": [],
   "source": [
    "gitt = pd.read_csv('./gitt1.csv')\n",
    "gitt = fixing_time_str(gitt)\n",
    "gitt = gitt.rename(index = str, columns = {'Voltage/V': 'Voltage', 'Current/mA' : 'Current'})\n",
    "d = transient_pulses(gitt)"
   ]
  },
  {
   "cell_type": "code",
   "execution_count": 160,
   "metadata": {},
   "outputs": [],
   "source": [
    "cycle = 37\n",
    "data = find_linear_fit(x = d[cycle]['sqrt_time_diff'], y = d[cycle]['Voltage'], window = 300)"
   ]
  },
  {
   "cell_type": "code",
   "execution_count": 161,
   "metadata": {},
   "outputs": [
    {
     "name": "stdout",
     "output_type": "stream",
     "text": [
      "The slope of the linear fit is 0.0004905822530732963 V*sec^(-1/2)\n",
      "The mean_squared error of the fit is 0.00014737455867376402\n"
     ]
    },
    {
     "data": {
      "image/png": "[encoded data removed]",
      "text/plain": [
       "<Figure size 450x450 with 1 Axes>"
      ]
     },
     "metadata": {},
     "output_type": "display_data"
    }
   ],
   "source": [
    "plot_results(data)"
   ]
  },
  {
   "cell_type": "code",
   "execution_count": null,
   "metadata": {},
   "outputs": [],
   "source": []
  }
 ],
 "metadata": {
  "kernelspec": {
   "display_name": "Python 3",
   "language": "python",
   "name": "python3"
  },
  "language_info": {
   "codemirror_mode": {
    "name": "ipython",
    "version": 3
   },
   "file_extension": ".py",
   "mimetype": "text/x-python",
   "name": "python",
   "nbconvert_exporter": "python",
   "pygments_lexer": "ipython3",
   "version": "3.6.5"
  }
 },
 "nbformat": 4,
 "nbformat_minor": 2
}

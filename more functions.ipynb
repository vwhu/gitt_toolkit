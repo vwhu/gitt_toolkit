{
 "cells": [
  {
   "cell_type": "code",
   "execution_count": null,
   "metadata": {},
   "outputs": [],
   "source": [
    "import pandas as pd\n",
    "\n",
    "def relaxation_pulses(d):\n",
    "    d_relax = {}\n",
    "    dkeys = d.keys()\n",
    "\n",
    "    for key in dkeys:\n",
    "        mask = d[key]['Current'] == 0\n",
    "        d_relax[key] = d[key][mask]\n",
    "        d_relax[key] = d_trans[key].reset_index(drop = True)\n",
    "\n",
    "        d_relax[key]['sqrt_time_diff'] = np.sqrt(d_relax[key]['Time'] - d_relax[key]['Time'][0])\n",
    "    \n",
    "    return d_relax"
   ]
  },
  {
   "cell_type": "code",
   "execution_count": null,
   "metadata": {},
   "outputs": [],
   "source": [
    "import pandas as pd\n",
    "import numpy as np\n",
    "\n",
    "def find_delEs(d_relax)\n",
    "    startcycle=2\n",
    "    delEs_array=np.zeros(len(d_relax)-startcycle)\n",
    "    ind=0\n",
    "    for i in range(startcycle,len(d_relax)):\n",
    "        delEs_array[ind]=float(d_relax[i+1].iloc[-1]['Voltage']-d_relax[i].iloc[-1]['Voltage'])\n",
    "        ind=ind+1\n",
    "        \n",
    "    return del_Es_array"
   ]
  },
  {
   "cell_type": "code",
   "execution_count": null,
   "metadata": {},
   "outputs": [],
   "source": [
    "# Eq 37 in Weppner & Hugins 1977 paper\n",
    "\n",
    "# m = mass of component in sample\n",
    "# M = atomic  weight of component\n",
    "# V = molar volume of sample\n",
    "# S = total area of contact between electrolyte and electrode\n",
    "# tau = length of current pulse\n",
    "# delEs = change of steady state voltage of cell at each step\n",
    "# dE_dsqrt_t = dE/dsqrt(t)\n",
    "# Deff = effective diffusion coefficient\n",
    "\n",
    "def find_diffusion_coeff(m,M,V,S,tau,delEs,dE_dsqrt_t)\n",
    "    Deff = 4/pi*(m*V/(M*S))^2*(delEs/(tau*dE_dsqrt_t))^2\n",
    "    \n",
    "    return Deff"
   ]
  }
 ],
 "metadata": {
  "kernelspec": {
   "display_name": "Python 3",
   "language": "python",
   "name": "python3"
  },
  "language_info": {
   "codemirror_mode": {
    "name": "ipython",
    "version": 3
   },
   "file_extension": ".py",
   "mimetype": "text/x-python",
   "name": "python",
   "nbconvert_exporter": "python",
   "pygments_lexer": "ipython3",
   "version": "3.6.3"
  }
 },
 "nbformat": 4,
 "nbformat_minor": 2
}

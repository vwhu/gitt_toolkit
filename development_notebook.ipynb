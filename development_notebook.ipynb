{
 "cells": [
  {
   "cell_type": "code",
   "execution_count": 1,
   "metadata": {},
   "outputs": [],
   "source": [
    "import pandas as pd\n",
    "import numpy as np\n",
    "import scipy\n",
    "import matplotlib.pyplot as plt\n",
    "\n",
    "%matplotlib inline"
   ]
  },
  {
   "cell_type": "code",
   "execution_count": 2,
   "metadata": {},
   "outputs": [],
   "source": [
    "gitt1 = pd.read_csv('gitt1.csv')"
   ]
  },
  {
   "cell_type": "code",
   "execution_count": 28,
   "metadata": {},
   "outputs": [
    {
     "data": {
      "text/plain": [
       "86400"
      ]
     },
     "execution_count": 28,
     "metadata": {},
     "output_type": "execute_result"
    }
   ],
   "source": [
    "24*3600"
   ]
  },
  {
   "cell_type": "code",
   "execution_count": 30,
   "metadata": {},
   "outputs": [
    {
     "data": {
      "text/plain": [
       "'06:21:07'"
      ]
     },
     "execution_count": 30,
     "metadata": {},
     "output_type": "execute_result"
    }
   ],
   "source": [
    "gitt1['TestTime'][10000].split('-')[1]"
   ]
  },
  {
   "cell_type": "code",
   "execution_count": 35,
   "metadata": {},
   "outputs": [
    {
     "data": {
      "text/plain": [
       "True"
      ]
     },
     "execution_count": 35,
     "metadata": {},
     "output_type": "execute_result"
    }
   ],
   "source": [
    "'-' not in gitt1['TestTime'][i].split('-')"
   ]
  },
  {
   "cell_type": "code",
   "execution_count": 41,
   "metadata": {},
   "outputs": [],
   "source": [
    "# Cleaning up Kevin's Data\n",
    "\n",
    "time = np.zeros(len(gitt1['TestTime']))\n",
    "\n",
    "for i in range(len(gitt1['TestTime'])):\n",
    "    if '-' not in gitt1['TestTime'][i]:\n",
    "        hr = float(gitt1['TestTime'][i].split(':')[0]) * 3600\n",
    "        mins = float(gitt1['TestTime'][i].split(':')[1]) * 60\n",
    "        sec = float(gitt1['TestTime'][i].split(':')[2])\n",
    "        time[i] = hr + mins + sec\n",
    "    if '-' in gitt1['TestTime'][i]:\n",
    "        #print(gitt1['TestTime'][i].split('-'))\n",
    "        day = float(gitt1['TestTime'][i].split('-')[0])*86400\n",
    "        idx2 = gitt1['TestTime'][i].split('-')[1]\n",
    "        hr = float(idx2.split(':')[0]) * 3600\n",
    "        mins = float(idx2.split(':')[1]) * 60\n",
    "        sec = float(idx2.split(':')[2])\n",
    "        time[i] = day + hr + mins+ sec"
   ]
  },
  {
   "cell_type": "code",
   "execution_count": 45,
   "metadata": {},
   "outputs": [],
   "source": [
    "gitt1['Time(s)'] = pd.Series(time)"
   ]
  },
  {
   "cell_type": "code",
   "execution_count": 62,
   "metadata": {},
   "outputs": [
    {
     "data": {
      "text/html": [
       "<div>\n",
       "<style scoped>\n",
       "    .dataframe tbody tr th:only-of-type {\n",
       "        vertical-align: middle;\n",
       "    }\n",
       "\n",
       "    .dataframe tbody tr th {\n",
       "        vertical-align: top;\n",
       "    }\n",
       "\n",
       "    .dataframe thead th {\n",
       "        text-align: right;\n",
       "    }\n",
       "</style>\n",
       "<table border=\"1\" class=\"dataframe\">\n",
       "  <thead>\n",
       "    <tr style=\"text-align: right;\">\n",
       "      <th></th>\n",
       "      <th>TestTime</th>\n",
       "      <th>Voltage/V</th>\n",
       "      <th>Current/mA</th>\n",
       "      <th>Time(s)</th>\n",
       "    </tr>\n",
       "  </thead>\n",
       "  <tbody>\n",
       "    <tr>\n",
       "      <th>69529</th>\n",
       "      <td>13-03:31:35</td>\n",
       "      <td>1.7256</td>\n",
       "      <td>0.0</td>\n",
       "      <td>1135895.0</td>\n",
       "    </tr>\n",
       "    <tr>\n",
       "      <th>69530</th>\n",
       "      <td>13-03:32:35</td>\n",
       "      <td>1.7246</td>\n",
       "      <td>0.0</td>\n",
       "      <td>1135955.0</td>\n",
       "    </tr>\n",
       "    <tr>\n",
       "      <th>69531</th>\n",
       "      <td>13-03:33:35</td>\n",
       "      <td>1.7240</td>\n",
       "      <td>0.0</td>\n",
       "      <td>1136015.0</td>\n",
       "    </tr>\n",
       "    <tr>\n",
       "      <th>69532</th>\n",
       "      <td>13-03:34:35</td>\n",
       "      <td>1.7246</td>\n",
       "      <td>0.0</td>\n",
       "      <td>1136075.0</td>\n",
       "    </tr>\n",
       "    <tr>\n",
       "      <th>69533</th>\n",
       "      <td>13-03:35:35</td>\n",
       "      <td>1.7243</td>\n",
       "      <td>0.0</td>\n",
       "      <td>1136135.0</td>\n",
       "    </tr>\n",
       "  </tbody>\n",
       "</table>\n",
       "</div>"
      ],
      "text/plain": [
       "          TestTime  Voltage/V  Current/mA    Time(s)\n",
       "69529  13-03:31:35     1.7256         0.0  1135895.0\n",
       "69530  13-03:32:35     1.7246         0.0  1135955.0\n",
       "69531  13-03:33:35     1.7240         0.0  1136015.0\n",
       "69532  13-03:34:35     1.7246         0.0  1136075.0\n",
       "69533  13-03:35:35     1.7243         0.0  1136135.0"
      ]
     },
     "execution_count": 62,
     "metadata": {},
     "output_type": "execute_result"
    }
   ],
   "source": [
    "gitt1.tail()"
   ]
  },
  {
   "cell_type": "code",
   "execution_count": 57,
   "metadata": {},
   "outputs": [],
   "source": [
    "time = np.array(gitt1['Time(s)'])\n",
    "voltage = np.array(gitt1['Voltage/V'])\n",
    "current = np.array(gitt1['Current/mA'])"
   ]
  },
  {
   "cell_type": "code",
   "execution_count": 60,
   "metadata": {},
   "outputs": [
    {
     "data": {
      "image/png": "[encoded data removed]",
      "text/plain": [
       "<Figure size 432x288 with 1 Axes>"
      ]
     },
     "metadata": {},
     "output_type": "display_data"
    }
   ],
   "source": [
    "plt.plot(time, voltage, label = 'Voltage (V)')\n",
    "plt.plot(time, current, label = 'Current (mA)')\n",
    "plt.legend()\n",
    "plt.show()"
   ]
  },
  {
   "cell_type": "code",
   "execution_count": null,
   "metadata": {},
   "outputs": [],
   "source": [
    "for i in range(len(current)):\n",
    "    "
   ]
  },
  {
   "cell_type": "code",
   "execution_count": 64,
   "metadata": {},
   "outputs": [],
   "source": [
    "workingcurrent = np.argwhere(current != 0)\n",
    "\n",
    "workingcurrent[i + 1] - workingcurrent"
   ]
  },
  {
   "cell_type": "code",
   "execution_count": null,
   "metadata": {},
   "outputs": [],
   "source": [
    "d = {}\n",
    "startidx = int(workingcurrent[0])\n",
    "cycle = 1\n",
    "\n",
    "for i in range(len(workingcurrent)-1):\n",
    "    if workingcurrent[i + 1] - workingcurrent[i] != 1:\n",
    "        endidx = int(workingcurrent[i +1] - 1)\n",
    "        d[cycle] = gitt1[startidx:endidx]\n",
    "        d[cycle] = d[cycle].reset_index(drop = True)\n",
    "        \n",
    "        startidx = int(workingcurrent[i +1])\n",
    "        cycle = cycle + 1\n",
    "                       "
   ]
  },
  {
   "cell_type": "code",
   "execution_count": 120,
   "metadata": {},
   "outputs": [],
   "source": [
    "d = {}\n",
    "startidx = int(workingcurrent[0])\n",
    "cycle = 1\n",
    "\n",
    "for i in range(len(workingcurrent)-1):\n",
    "    if workingcurrent[i + 1] - workingcurrent[i] != 1:\n",
    "        endidx = int(workingcurrent[i +1] - 1)\n",
    "        d[cycle] = gitt1[startidx:endidx]\n",
    "        d[cycle] = d[cycle].reset_index(drop = True)\n",
    "        \n",
    "        startidx = int(workingcurrent[i +1])\n",
    "        cycle = cycle + 1\n",
    "                       "
   ]
  },
  {
   "cell_type": "code",
   "execution_count": 114,
   "metadata": {},
   "outputs": [],
   "source": [
    "mask = d[2]['Current/mA'] == 0"
   ]
  },
  {
   "cell_type": "code",
   "execution_count": 115,
   "metadata": {},
   "outputs": [
    {
     "data": {
      "text/plain": [
       "[<matplotlib.lines.Line2D at 0x28740355080>]"
      ]
     },
     "execution_count": 115,
     "metadata": {},
     "output_type": "execute_result"
    },
    {
     "data": {
      "image/png": "[encoded data removed]",
      "text/plain": [
       "<Figure size 432x288 with 1 Axes>"
      ]
     },
     "metadata": {},
     "output_type": "display_data"
    }
   ],
   "source": [
    "plt.plot(d[2]['Time(s)'], d[2]['Voltage/V'])"
   ]
  },
  {
   "cell_type": "code",
   "execution_count": 116,
   "metadata": {},
   "outputs": [
    {
     "data": {
      "text/plain": [
       "[<matplotlib.lines.Line2D at 0x287403ac898>]"
      ]
     },
     "execution_count": 116,
     "metadata": {},
     "output_type": "execute_result"
    },
    {
     "data": {
      "image/png": "[encoded data removed]",
      "text/plain": [
       "<Figure size 432x288 with 1 Axes>"
      ]
     },
     "metadata": {},
     "output_type": "display_data"
    }
   ],
   "source": [
    "plt.plot(d[2]['Time(s)'][mask], d[2]['Voltage/V'][mask])"
   ]
  },
  {
   "cell_type": "code",
   "execution_count": 122,
   "metadata": {},
   "outputs": [
    {
     "data": {
      "text/html": [
       "<div>\n",
       "<style scoped>\n",
       "    .dataframe tbody tr th:only-of-type {\n",
       "        vertical-align: middle;\n",
       "    }\n",
       "\n",
       "    .dataframe tbody tr th {\n",
       "        vertical-align: top;\n",
       "    }\n",
       "\n",
       "    .dataframe thead th {\n",
       "        text-align: right;\n",
       "    }\n",
       "</style>\n",
       "<table border=\"1\" class=\"dataframe\">\n",
       "  <thead>\n",
       "    <tr style=\"text-align: right;\">\n",
       "      <th></th>\n",
       "      <th>TestTime</th>\n",
       "      <th>Voltage/V</th>\n",
       "      <th>Current/mA</th>\n",
       "      <th>Time(s)</th>\n",
       "    </tr>\n",
       "  </thead>\n",
       "  <tbody>\n",
       "    <tr>\n",
       "      <th>0</th>\n",
       "      <td>4-00:55:35</td>\n",
       "      <td>0.3723</td>\n",
       "      <td>-0.111</td>\n",
       "      <td>348935.0</td>\n",
       "    </tr>\n",
       "    <tr>\n",
       "      <th>1</th>\n",
       "      <td>4-00:55:41</td>\n",
       "      <td>0.3723</td>\n",
       "      <td>-0.111</td>\n",
       "      <td>348941.0</td>\n",
       "    </tr>\n",
       "    <tr>\n",
       "      <th>2</th>\n",
       "      <td>4-00:55:42</td>\n",
       "      <td>0.3723</td>\n",
       "      <td>-0.111</td>\n",
       "      <td>348942.0</td>\n",
       "    </tr>\n",
       "    <tr>\n",
       "      <th>3</th>\n",
       "      <td>4-00:55:43</td>\n",
       "      <td>0.3723</td>\n",
       "      <td>-0.111</td>\n",
       "      <td>348943.0</td>\n",
       "    </tr>\n",
       "    <tr>\n",
       "      <th>4</th>\n",
       "      <td>4-00:55:44</td>\n",
       "      <td>0.3723</td>\n",
       "      <td>-0.111</td>\n",
       "      <td>348944.0</td>\n",
       "    </tr>\n",
       "    <tr>\n",
       "      <th>5</th>\n",
       "      <td>4-00:55:45</td>\n",
       "      <td>0.3723</td>\n",
       "      <td>-0.111</td>\n",
       "      <td>348945.0</td>\n",
       "    </tr>\n",
       "    <tr>\n",
       "      <th>6</th>\n",
       "      <td>4-00:55:46</td>\n",
       "      <td>0.3723</td>\n",
       "      <td>-0.111</td>\n",
       "      <td>348946.0</td>\n",
       "    </tr>\n",
       "    <tr>\n",
       "      <th>7</th>\n",
       "      <td>4-00:55:47</td>\n",
       "      <td>0.3621</td>\n",
       "      <td>-0.111</td>\n",
       "      <td>348947.0</td>\n",
       "    </tr>\n",
       "    <tr>\n",
       "      <th>8</th>\n",
       "      <td>4-00:55:48</td>\n",
       "      <td>0.3621</td>\n",
       "      <td>-0.111</td>\n",
       "      <td>348948.0</td>\n",
       "    </tr>\n",
       "    <tr>\n",
       "      <th>9</th>\n",
       "      <td>4-00:55:49</td>\n",
       "      <td>0.3621</td>\n",
       "      <td>-0.111</td>\n",
       "      <td>348949.0</td>\n",
       "    </tr>\n",
       "    <tr>\n",
       "      <th>10</th>\n",
       "      <td>4-00:55:50</td>\n",
       "      <td>0.3531</td>\n",
       "      <td>-0.111</td>\n",
       "      <td>348950.0</td>\n",
       "    </tr>\n",
       "    <tr>\n",
       "      <th>11</th>\n",
       "      <td>4-00:55:51</td>\n",
       "      <td>0.3531</td>\n",
       "      <td>-0.111</td>\n",
       "      <td>348951.0</td>\n",
       "    </tr>\n",
       "    <tr>\n",
       "      <th>12</th>\n",
       "      <td>4-00:55:52</td>\n",
       "      <td>0.3531</td>\n",
       "      <td>-0.111</td>\n",
       "      <td>348952.0</td>\n",
       "    </tr>\n",
       "    <tr>\n",
       "      <th>13</th>\n",
       "      <td>4-00:55:53</td>\n",
       "      <td>0.3454</td>\n",
       "      <td>-0.111</td>\n",
       "      <td>348953.0</td>\n",
       "    </tr>\n",
       "    <tr>\n",
       "      <th>14</th>\n",
       "      <td>4-00:55:54</td>\n",
       "      <td>0.3454</td>\n",
       "      <td>-0.111</td>\n",
       "      <td>348954.0</td>\n",
       "    </tr>\n",
       "    <tr>\n",
       "      <th>15</th>\n",
       "      <td>4-00:55:55</td>\n",
       "      <td>0.3454</td>\n",
       "      <td>-0.111</td>\n",
       "      <td>348955.0</td>\n",
       "    </tr>\n",
       "    <tr>\n",
       "      <th>16</th>\n",
       "      <td>4-00:55:56</td>\n",
       "      <td>0.3395</td>\n",
       "      <td>-0.111</td>\n",
       "      <td>348956.0</td>\n",
       "    </tr>\n",
       "    <tr>\n",
       "      <th>17</th>\n",
       "      <td>4-00:55:57</td>\n",
       "      <td>0.3395</td>\n",
       "      <td>-0.111</td>\n",
       "      <td>348957.0</td>\n",
       "    </tr>\n",
       "    <tr>\n",
       "      <th>18</th>\n",
       "      <td>4-00:55:58</td>\n",
       "      <td>0.3333</td>\n",
       "      <td>-0.111</td>\n",
       "      <td>348958.0</td>\n",
       "    </tr>\n",
       "    <tr>\n",
       "      <th>19</th>\n",
       "      <td>4-00:55:59</td>\n",
       "      <td>0.3333</td>\n",
       "      <td>-0.111</td>\n",
       "      <td>348959.0</td>\n",
       "    </tr>\n",
       "    <tr>\n",
       "      <th>20</th>\n",
       "      <td>4-00:56:00</td>\n",
       "      <td>0.3333</td>\n",
       "      <td>-0.111</td>\n",
       "      <td>348960.0</td>\n",
       "    </tr>\n",
       "    <tr>\n",
       "      <th>21</th>\n",
       "      <td>4-00:56:01</td>\n",
       "      <td>0.3280</td>\n",
       "      <td>-0.111</td>\n",
       "      <td>348961.0</td>\n",
       "    </tr>\n",
       "    <tr>\n",
       "      <th>22</th>\n",
       "      <td>4-00:56:02</td>\n",
       "      <td>0.3280</td>\n",
       "      <td>-0.111</td>\n",
       "      <td>348962.0</td>\n",
       "    </tr>\n",
       "    <tr>\n",
       "      <th>23</th>\n",
       "      <td>4-00:56:03</td>\n",
       "      <td>0.3280</td>\n",
       "      <td>-0.111</td>\n",
       "      <td>348963.0</td>\n",
       "    </tr>\n",
       "    <tr>\n",
       "      <th>24</th>\n",
       "      <td>4-00:56:04</td>\n",
       "      <td>0.3249</td>\n",
       "      <td>-0.111</td>\n",
       "      <td>348964.0</td>\n",
       "    </tr>\n",
       "    <tr>\n",
       "      <th>25</th>\n",
       "      <td>4-00:56:05</td>\n",
       "      <td>0.3249</td>\n",
       "      <td>-0.111</td>\n",
       "      <td>348965.0</td>\n",
       "    </tr>\n",
       "    <tr>\n",
       "      <th>26</th>\n",
       "      <td>4-00:56:06</td>\n",
       "      <td>0.3249</td>\n",
       "      <td>-0.111</td>\n",
       "      <td>348966.0</td>\n",
       "    </tr>\n",
       "    <tr>\n",
       "      <th>27</th>\n",
       "      <td>4-00:56:07</td>\n",
       "      <td>0.3203</td>\n",
       "      <td>-0.112</td>\n",
       "      <td>348967.0</td>\n",
       "    </tr>\n",
       "    <tr>\n",
       "      <th>28</th>\n",
       "      <td>4-00:56:08</td>\n",
       "      <td>0.3203</td>\n",
       "      <td>-0.112</td>\n",
       "      <td>348968.0</td>\n",
       "    </tr>\n",
       "    <tr>\n",
       "      <th>29</th>\n",
       "      <td>4-00:56:09</td>\n",
       "      <td>0.3203</td>\n",
       "      <td>-0.112</td>\n",
       "      <td>348969.0</td>\n",
       "    </tr>\n",
       "    <tr>\n",
       "      <th>...</th>\n",
       "      <td>...</td>\n",
       "      <td>...</td>\n",
       "      <td>...</td>\n",
       "      <td>...</td>\n",
       "    </tr>\n",
       "    <tr>\n",
       "      <th>1466</th>\n",
       "      <td>4-05:45:35</td>\n",
       "      <td>0.3835</td>\n",
       "      <td>0.000</td>\n",
       "      <td>366335.0</td>\n",
       "    </tr>\n",
       "    <tr>\n",
       "      <th>1467</th>\n",
       "      <td>4-05:46:35</td>\n",
       "      <td>0.3844</td>\n",
       "      <td>0.000</td>\n",
       "      <td>366395.0</td>\n",
       "    </tr>\n",
       "    <tr>\n",
       "      <th>1468</th>\n",
       "      <td>4-05:47:35</td>\n",
       "      <td>0.3841</td>\n",
       "      <td>0.000</td>\n",
       "      <td>366455.0</td>\n",
       "    </tr>\n",
       "    <tr>\n",
       "      <th>1469</th>\n",
       "      <td>4-05:48:35</td>\n",
       "      <td>0.3841</td>\n",
       "      <td>0.000</td>\n",
       "      <td>366515.0</td>\n",
       "    </tr>\n",
       "    <tr>\n",
       "      <th>1470</th>\n",
       "      <td>4-05:49:35</td>\n",
       "      <td>0.3854</td>\n",
       "      <td>0.000</td>\n",
       "      <td>366575.0</td>\n",
       "    </tr>\n",
       "    <tr>\n",
       "      <th>1471</th>\n",
       "      <td>4-05:50:35</td>\n",
       "      <td>0.3841</td>\n",
       "      <td>0.000</td>\n",
       "      <td>366635.0</td>\n",
       "    </tr>\n",
       "    <tr>\n",
       "      <th>1472</th>\n",
       "      <td>4-05:51:35</td>\n",
       "      <td>0.3844</td>\n",
       "      <td>0.000</td>\n",
       "      <td>366695.0</td>\n",
       "    </tr>\n",
       "    <tr>\n",
       "      <th>1473</th>\n",
       "      <td>4-05:52:35</td>\n",
       "      <td>0.3850</td>\n",
       "      <td>0.000</td>\n",
       "      <td>366755.0</td>\n",
       "    </tr>\n",
       "    <tr>\n",
       "      <th>1474</th>\n",
       "      <td>4-05:53:35</td>\n",
       "      <td>0.3854</td>\n",
       "      <td>0.000</td>\n",
       "      <td>366815.0</td>\n",
       "    </tr>\n",
       "    <tr>\n",
       "      <th>1475</th>\n",
       "      <td>4-05:54:35</td>\n",
       "      <td>0.3850</td>\n",
       "      <td>0.000</td>\n",
       "      <td>366875.0</td>\n",
       "    </tr>\n",
       "    <tr>\n",
       "      <th>1476</th>\n",
       "      <td>4-05:55:35</td>\n",
       "      <td>0.3850</td>\n",
       "      <td>0.000</td>\n",
       "      <td>366935.0</td>\n",
       "    </tr>\n",
       "    <tr>\n",
       "      <th>1477</th>\n",
       "      <td>4-05:56:35</td>\n",
       "      <td>0.3847</td>\n",
       "      <td>0.000</td>\n",
       "      <td>366995.0</td>\n",
       "    </tr>\n",
       "    <tr>\n",
       "      <th>1478</th>\n",
       "      <td>4-05:57:35</td>\n",
       "      <td>0.3854</td>\n",
       "      <td>0.000</td>\n",
       "      <td>367055.0</td>\n",
       "    </tr>\n",
       "    <tr>\n",
       "      <th>1479</th>\n",
       "      <td>4-05:58:35</td>\n",
       "      <td>0.3850</td>\n",
       "      <td>0.000</td>\n",
       "      <td>367115.0</td>\n",
       "    </tr>\n",
       "    <tr>\n",
       "      <th>1480</th>\n",
       "      <td>4-05:59:35</td>\n",
       "      <td>0.3847</td>\n",
       "      <td>0.000</td>\n",
       "      <td>367175.0</td>\n",
       "    </tr>\n",
       "    <tr>\n",
       "      <th>1481</th>\n",
       "      <td>4-06:00:35</td>\n",
       "      <td>0.3847</td>\n",
       "      <td>0.000</td>\n",
       "      <td>367235.0</td>\n",
       "    </tr>\n",
       "    <tr>\n",
       "      <th>1482</th>\n",
       "      <td>4-06:01:35</td>\n",
       "      <td>0.3850</td>\n",
       "      <td>0.000</td>\n",
       "      <td>367295.0</td>\n",
       "    </tr>\n",
       "    <tr>\n",
       "      <th>1483</th>\n",
       "      <td>4-06:02:35</td>\n",
       "      <td>0.3854</td>\n",
       "      <td>0.000</td>\n",
       "      <td>367355.0</td>\n",
       "    </tr>\n",
       "    <tr>\n",
       "      <th>1484</th>\n",
       "      <td>4-06:03:35</td>\n",
       "      <td>0.3860</td>\n",
       "      <td>0.000</td>\n",
       "      <td>367415.0</td>\n",
       "    </tr>\n",
       "    <tr>\n",
       "      <th>1485</th>\n",
       "      <td>4-06:04:35</td>\n",
       "      <td>0.3857</td>\n",
       "      <td>0.000</td>\n",
       "      <td>367475.0</td>\n",
       "    </tr>\n",
       "    <tr>\n",
       "      <th>1486</th>\n",
       "      <td>4-06:05:35</td>\n",
       "      <td>0.3854</td>\n",
       "      <td>0.000</td>\n",
       "      <td>367535.0</td>\n",
       "    </tr>\n",
       "    <tr>\n",
       "      <th>1487</th>\n",
       "      <td>4-06:06:35</td>\n",
       "      <td>0.3860</td>\n",
       "      <td>0.000</td>\n",
       "      <td>367595.0</td>\n",
       "    </tr>\n",
       "    <tr>\n",
       "      <th>1488</th>\n",
       "      <td>4-06:07:35</td>\n",
       "      <td>0.3857</td>\n",
       "      <td>0.000</td>\n",
       "      <td>367655.0</td>\n",
       "    </tr>\n",
       "    <tr>\n",
       "      <th>1489</th>\n",
       "      <td>4-06:08:35</td>\n",
       "      <td>0.3863</td>\n",
       "      <td>0.000</td>\n",
       "      <td>367715.0</td>\n",
       "    </tr>\n",
       "    <tr>\n",
       "      <th>1490</th>\n",
       "      <td>4-06:09:35</td>\n",
       "      <td>0.3863</td>\n",
       "      <td>0.000</td>\n",
       "      <td>367775.0</td>\n",
       "    </tr>\n",
       "    <tr>\n",
       "      <th>1491</th>\n",
       "      <td>4-06:10:35</td>\n",
       "      <td>0.3863</td>\n",
       "      <td>0.000</td>\n",
       "      <td>367835.0</td>\n",
       "    </tr>\n",
       "    <tr>\n",
       "      <th>1492</th>\n",
       "      <td>4-06:11:35</td>\n",
       "      <td>0.3857</td>\n",
       "      <td>0.000</td>\n",
       "      <td>367895.0</td>\n",
       "    </tr>\n",
       "    <tr>\n",
       "      <th>1493</th>\n",
       "      <td>4-06:12:35</td>\n",
       "      <td>0.3863</td>\n",
       "      <td>0.000</td>\n",
       "      <td>367955.0</td>\n",
       "    </tr>\n",
       "    <tr>\n",
       "      <th>1494</th>\n",
       "      <td>4-06:13:35</td>\n",
       "      <td>0.3863</td>\n",
       "      <td>0.000</td>\n",
       "      <td>368015.0</td>\n",
       "    </tr>\n",
       "    <tr>\n",
       "      <th>1495</th>\n",
       "      <td>4-06:14:35</td>\n",
       "      <td>0.3860</td>\n",
       "      <td>0.000</td>\n",
       "      <td>368075.0</td>\n",
       "    </tr>\n",
       "  </tbody>\n",
       "</table>\n",
       "<p>1496 rows × 4 columns</p>\n",
       "</div>"
      ],
      "text/plain": [
       "        TestTime  Voltage/V  Current/mA   Time(s)\n",
       "0     4-00:55:35     0.3723      -0.111  348935.0\n",
       "1     4-00:55:41     0.3723      -0.111  348941.0\n",
       "2     4-00:55:42     0.3723      -0.111  348942.0\n",
       "3     4-00:55:43     0.3723      -0.111  348943.0\n",
       "4     4-00:55:44     0.3723      -0.111  348944.0\n",
       "5     4-00:55:45     0.3723      -0.111  348945.0\n",
       "6     4-00:55:46     0.3723      -0.111  348946.0\n",
       "7     4-00:55:47     0.3621      -0.111  348947.0\n",
       "8     4-00:55:48     0.3621      -0.111  348948.0\n",
       "9     4-00:55:49     0.3621      -0.111  348949.0\n",
       "10    4-00:55:50     0.3531      -0.111  348950.0\n",
       "11    4-00:55:51     0.3531      -0.111  348951.0\n",
       "12    4-00:55:52     0.3531      -0.111  348952.0\n",
       "13    4-00:55:53     0.3454      -0.111  348953.0\n",
       "14    4-00:55:54     0.3454      -0.111  348954.0\n",
       "15    4-00:55:55     0.3454      -0.111  348955.0\n",
       "16    4-00:55:56     0.3395      -0.111  348956.0\n",
       "17    4-00:55:57     0.3395      -0.111  348957.0\n",
       "18    4-00:55:58     0.3333      -0.111  348958.0\n",
       "19    4-00:55:59     0.3333      -0.111  348959.0\n",
       "20    4-00:56:00     0.3333      -0.111  348960.0\n",
       "21    4-00:56:01     0.3280      -0.111  348961.0\n",
       "22    4-00:56:02     0.3280      -0.111  348962.0\n",
       "23    4-00:56:03     0.3280      -0.111  348963.0\n",
       "24    4-00:56:04     0.3249      -0.111  348964.0\n",
       "25    4-00:56:05     0.3249      -0.111  348965.0\n",
       "26    4-00:56:06     0.3249      -0.111  348966.0\n",
       "27    4-00:56:07     0.3203      -0.112  348967.0\n",
       "28    4-00:56:08     0.3203      -0.112  348968.0\n",
       "29    4-00:56:09     0.3203      -0.112  348969.0\n",
       "...          ...        ...         ...       ...\n",
       "1466  4-05:45:35     0.3835       0.000  366335.0\n",
       "1467  4-05:46:35     0.3844       0.000  366395.0\n",
       "1468  4-05:47:35     0.3841       0.000  366455.0\n",
       "1469  4-05:48:35     0.3841       0.000  366515.0\n",
       "1470  4-05:49:35     0.3854       0.000  366575.0\n",
       "1471  4-05:50:35     0.3841       0.000  366635.0\n",
       "1472  4-05:51:35     0.3844       0.000  366695.0\n",
       "1473  4-05:52:35     0.3850       0.000  366755.0\n",
       "1474  4-05:53:35     0.3854       0.000  366815.0\n",
       "1475  4-05:54:35     0.3850       0.000  366875.0\n",
       "1476  4-05:55:35     0.3850       0.000  366935.0\n",
       "1477  4-05:56:35     0.3847       0.000  366995.0\n",
       "1478  4-05:57:35     0.3854       0.000  367055.0\n",
       "1479  4-05:58:35     0.3850       0.000  367115.0\n",
       "1480  4-05:59:35     0.3847       0.000  367175.0\n",
       "1481  4-06:00:35     0.3847       0.000  367235.0\n",
       "1482  4-06:01:35     0.3850       0.000  367295.0\n",
       "1483  4-06:02:35     0.3854       0.000  367355.0\n",
       "1484  4-06:03:35     0.3860       0.000  367415.0\n",
       "1485  4-06:04:35     0.3857       0.000  367475.0\n",
       "1486  4-06:05:35     0.3854       0.000  367535.0\n",
       "1487  4-06:06:35     0.3860       0.000  367595.0\n",
       "1488  4-06:07:35     0.3857       0.000  367655.0\n",
       "1489  4-06:08:35     0.3863       0.000  367715.0\n",
       "1490  4-06:09:35     0.3863       0.000  367775.0\n",
       "1491  4-06:10:35     0.3863       0.000  367835.0\n",
       "1492  4-06:11:35     0.3857       0.000  367895.0\n",
       "1493  4-06:12:35     0.3863       0.000  367955.0\n",
       "1494  4-06:13:35     0.3863       0.000  368015.0\n",
       "1495  4-06:14:35     0.3860       0.000  368075.0\n",
       "\n",
       "[1496 rows x 4 columns]"
      ]
     },
     "execution_count": 122,
     "metadata": {},
     "output_type": "execute_result"
    }
   ],
   "source": [
    "d[4]"
   ]
  },
  {
   "cell_type": "code",
   "execution_count": 143,
   "metadata": {},
   "outputs": [],
   "source": [
    "d_relax = {}\n",
    "dkeys = d.keys()\n",
    "\n",
    "for key in dkeys:\n",
    "    mask = d[key]['Current/mA'] == 0\n",
    "    d_relax[key] = d[key][mask]\n",
    "    d_relax[key] = d_relax[key].reset_index(drop = True)\n",
    "    \n",
    "    d_relax[key]['sqrt_time_diff'] = np.sqrt(d_relax[key]['Time(s)'] - d_relax[key]['Time(s)'][0])"
   ]
  },
  {
   "cell_type": "code",
   "execution_count": 195,
   "metadata": {},
   "outputs": [],
   "source": [
    "d_trans = {}\n",
    "dkeys = d.keys()\n",
    "\n",
    "for key in dkeys:\n",
    "    mask = d[key]['Current/mA'] != 0\n",
    "    d_trans[key] = d[key][mask]\n",
    "    d_trans[key] = d_trans[key].reset_index(drop = True)\n",
    "    \n",
    "    d_trans[key]['sqrt_time_diff'] = np.sqrt(d_trans[key]['Time(s)'] - d_trans[key]['Time(s)'][0])"
   ]
  },
  {
   "cell_type": "code",
   "execution_count": 87,
   "metadata": {},
   "outputs": [
    {
     "data": {
      "text/plain": [
       "dict_keys([1, 2, 3, 4, 5, 6, 7, 8, 9, 10, 11, 12, 13, 14, 15, 16, 17, 18, 19, 20, 21, 22, 23, 24, 25, 26, 27, 28, 29, 30, 31, 32, 33, 34, 35, 36, 37, 38, 39, 40, 41, 42, 43])"
      ]
     },
     "execution_count": 87,
     "metadata": {},
     "output_type": "execute_result"
    }
   ],
   "source": [
    "d.keys() # Ignore first key, just full charge/discharge cycles"
   ]
  },
  {
   "cell_type": "code",
   "execution_count": null,
   "metadata": {},
   "outputs": [],
   "source": []
  },
  {
   "cell_type": "code",
   "execution_count": 88,
   "metadata": {},
   "outputs": [
    {
     "data": {
      "text/plain": [
       "[<matplotlib.lines.Line2D at 0x287403032e8>]"
      ]
     },
     "execution_count": 88,
     "metadata": {},
     "output_type": "execute_result"
    },
    {
     "data": {
      "image/png": "[encoded data removed]",
      "text/plain": [
       "<Figure size 432x288 with 1 Axes>"
      ]
     },
     "metadata": {},
     "output_type": "display_data"
    }
   ],
   "source": [
    "i = 2\n",
    "plt.plot(d[i]['Time(s)'], d[i]['Voltage/V'])\n",
    "plt.plot(d[i]['Time(s)'], d[i]['Current/mA'])"
   ]
  },
  {
   "cell_type": "code",
   "execution_count": 174,
   "metadata": {},
   "outputs": [
    {
     "data": {
      "text/plain": [
       "[<matplotlib.lines.Line2D at 0x28742bcfbe0>]"
      ]
     },
     "execution_count": 174,
     "metadata": {},
     "output_type": "execute_result"
    },
    {
     "data": {
      "image/png": "[encoded data removed]",
      "text/plain": [
       "<Figure size 432x288 with 1 Axes>"
      ]
     },
     "metadata": {},
     "output_type": "display_data"
    }
   ],
   "source": [
    "i = 26\n",
    "plt.plot(d[i]['Time(s)'], d[i]['Voltage/V'])\n",
    "plt.plot(d[i]['Time(s)'], d[i]['Current/mA'])"
   ]
  },
  {
   "cell_type": "code",
   "execution_count": 100,
   "metadata": {},
   "outputs": [
    {
     "data": {
      "text/plain": [
       "[<matplotlib.lines.Line2D at 0x287401b53c8>]"
      ]
     },
     "execution_count": 100,
     "metadata": {},
     "output_type": "execute_result"
    },
    {
     "data": {
      "image/png": "[encoded data removed]",
      "text/plain": [
       "<Figure size 432x288 with 1 Axes>"
      ]
     },
     "metadata": {},
     "output_type": "display_data"
    }
   ],
   "source": [
    "i = 2\n",
    "plt.plot(d_relax[i]['Time(s)'], d_relax[i]['Voltage/V'])\n",
    "plt.plot(d_relax[i]['Time(s)'], d_relax[i]['Current/mA'])"
   ]
  },
  {
   "cell_type": "code",
   "execution_count": 101,
   "metadata": {},
   "outputs": [
    {
     "data": {
      "text/plain": [
       "[<matplotlib.lines.Line2D at 0x287402166d8>]"
      ]
     },
     "execution_count": 101,
     "metadata": {},
     "output_type": "execute_result"
    },
    {
     "data": {
      "image/png": "[encoded data removed]",
      "text/plain": [
       "<Figure size 432x288 with 1 Axes>"
      ]
     },
     "metadata": {},
     "output_type": "display_data"
    }
   ],
   "source": [
    "i = 18\n",
    "plt.plot(d_relax[i]['Time(s)'], d_relax[i]['Voltage/V'])\n",
    "plt.plot(d_relax[i]['Time(s)'], d_relax[i]['Current/mA'])"
   ]
  },
  {
   "cell_type": "code",
   "execution_count": 61,
   "metadata": {},
   "outputs": [
    {
     "data": {
      "text/plain": [
       "345600"
      ]
     },
     "execution_count": 61,
     "metadata": {},
     "output_type": "execute_result"
    }
   ],
   "source": [
    "4*86400"
   ]
  },
  {
   "cell_type": "code",
   "execution_count": 166,
   "metadata": {},
   "outputs": [
    {
     "data": {
      "text/plain": [
       "[<matplotlib.lines.Line2D at 0x287428bebe0>]"
      ]
     },
     "execution_count": 166,
     "metadata": {},
     "output_type": "execute_result"
    },
    {
     "data": {
      "image/png": "[encoded data removed]",
      "text/plain": [
       "<Figure size 432x288 with 2 Axes>"
      ]
     },
     "metadata": {},
     "output_type": "display_data"
    }
   ],
   "source": [
    "i = 10\n",
    "fig, ax = plt.subplots(2, 1)\n",
    "ax[0].plot(d_relax[i]['sqrt_time_diff'], d_relax[i]['Voltage/V'])\n",
    "ax[1].plot(d_relax[i]['Time(s)']-d_relax[i]['Time(s)'][0], d_relax[i]['Voltage/V'])"
   ]
  },
  {
   "cell_type": "code",
   "execution_count": 209,
   "metadata": {},
   "outputs": [
    {
     "data": {
      "image/png": "[encoded data removed]",
      "text/plain": [
       "<Figure size 432x288 with 2 Axes>"
      ]
     },
     "metadata": {},
     "output_type": "display_data"
    }
   ],
   "source": [
    "i = 30\n",
    "fig, ax = plt.subplots(2, 1)\n",
    "ax[0].plot(d_trans[i]['sqrt_time_diff'], d_trans[i]['Voltage/V'])\n",
    "ax[0].set_xlabel('sqrt(t)')\n",
    "\n",
    "ax[1].plot(d_trans[i]['Time(s)']-d_trans[i]['Time(s)'][0], d_trans[i]['Voltage/V'])\n",
    "ax[1].set_xlabel('(t)')\n",
    "\n",
    "plt.tight_layout()"
   ]
  },
  {
   "cell_type": "code",
   "execution_count": 186,
   "metadata": {},
   "outputs": [],
   "source": [
    "from scipy.signal import savgol_filter"
   ]
  },
  {
   "cell_type": "code",
   "execution_count": 188,
   "metadata": {},
   "outputs": [],
   "source": [
    "s_filt = savgol_filter(x = d_trans[i]['Voltage/V'], window_length = 51, polyorder = 3, deriv = 2, delta = 1)"
   ]
  },
  {
   "cell_type": "code",
   "execution_count": 190,
   "metadata": {},
   "outputs": [
    {
     "data": {
      "text/plain": [
       "[<matplotlib.lines.Line2D at 0x28748f026a0>]"
      ]
     },
     "execution_count": 190,
     "metadata": {},
     "output_type": "execute_result"
    },
    {
     "data": {
      "image/png": "[encoded data removed]",
      "text/plain": [
       "<Figure size 432x288 with 1 Axes>"
      ]
     },
     "metadata": {},
     "output_type": "display_data"
    }
   ],
   "source": [
    "plt.plot(d_trans[i]['Voltage/V'], s_filt)"
   ]
  },
  {
   "cell_type": "code",
   "execution_count": 207,
   "metadata": {},
   "outputs": [
    {
     "data": {
      "text/plain": [
       "Text(0,0.5,'d2V/dt2')"
      ]
     },
     "execution_count": 207,
     "metadata": {},
     "output_type": "execute_result"
    },
    {
     "data": {
      "image/png": "[encoded data removed]",
      "text/plain": [
       "<Figure size 432x288 with 1 Axes>"
      ]
     },
     "metadata": {},
     "output_type": "display_data"
    }
   ],
   "source": [
    "i = 39\n",
    "s_filt = savgol_filter(x = d_trans[i]['Voltage/V'], window_length = 71, polyorder = 3, deriv = 2, delta = 1)\n",
    "plt.plot(d_trans[i]['Time(s)'], s_filt)\n",
    "plt.xlabel('Time')\n",
    "plt.ylabel('d2V/dt2')"
   ]
  },
  {
   "cell_type": "code",
   "execution_count": 194,
   "metadata": {},
   "outputs": [
    {
     "data": {
      "text/plain": [
       "3.7611445159192985e-06"
      ]
     },
     "execution_count": 194,
     "metadata": {},
     "output_type": "execute_result"
    }
   ],
   "source": [
    "s_filt[600]"
   ]
  },
  {
   "cell_type": "code",
   "execution_count": 185,
   "metadata": {},
   "outputs": [
    {
     "name": "stdout",
     "output_type": "stream",
     "text": [
      "1194\n",
      "1200.0\n"
     ]
    },
    {
     "data": {
      "image/png": "[encoded data removed]",
      "text/plain": [
       "<Figure size 432x288 with 1 Axes>"
      ]
     },
     "metadata": {},
     "output_type": "display_data"
    }
   ],
   "source": [
    "i = 2\n",
    "plt.plot(d_trans[i]['Time(s)'], d_trans[i]['Voltage/V'])\n",
    "#plt.plot(d_trans[i]['Time(s)'], d_trans[i]['Current/mA'])\n",
    "print(len(d_trans[i]['Time(s)']))\n",
    "print(d_trans[i]['Time(s)'][len(d_trans[i]['Time(s)'])-1] - d_trans[i]['Time(s)'][-0])"
   ]
  },
  {
   "cell_type": "code",
   "execution_count": 182,
   "metadata": {},
   "outputs": [
    {
     "data": {
      "text/plain": [
       "311735.0"
      ]
     },
     "execution_count": 182,
     "metadata": {},
     "output_type": "execute_result"
    }
   ],
   "source": [
    "d_trans[i]['Time(s)'][len(d_trans[i]['Time(s)'])-1]"
   ]
  },
  {
   "cell_type": "code",
   "execution_count": null,
   "metadata": {},
   "outputs": [],
   "source": []
  }
 ],
 "metadata": {
  "kernelspec": {
   "display_name": "Python 3",
   "language": "python",
   "name": "python3"
  },
  "language_info": {
   "codemirror_mode": {
    "name": "ipython",
    "version": 3
   },
   "file_extension": ".py",
   "mimetype": "text/x-python",
   "name": "python",
   "nbconvert_exporter": "python",
   "pygments_lexer": "ipython3",
   "version": "3.6.5"
  }
 },
 "nbformat": 4,
 "nbformat_minor": 2
}

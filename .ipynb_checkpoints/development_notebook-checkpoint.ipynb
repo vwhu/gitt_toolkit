{
 "cells": [
  {
   "cell_type": "code",
   "execution_count": 1,
   "metadata": {},
   "outputs": [],
   "source": [
    "import pandas as pd\n",
    "import numpy as np\n",
    "import scipy\n",
    "import matplotlib.pyplot as plt\n",
    "\n",
    "%matplotlib inline"
   ]
  },
  {
   "cell_type": "code",
   "execution_count": 2,
   "metadata": {},
   "outputs": [],
   "source": [
    "gitt1 = pd.read_csv('gitt1.csv')"
   ]
  },
  {
   "cell_type": "code",
   "execution_count": null,
   "metadata": {},
   "outputs": [],
   "source": [
    "plt.plot(gitt1['TestTime'], gitt1['Voltage/V'])\n",
    "plt.plot(gitt1['TestTime'], gitt1[''])"
   ]
  },
  {
   "cell_type": "code",
   "execution_count": 12,
   "metadata": {},
   "outputs": [
    {
     "ename": "AttributeError",
     "evalue": "'list' object has no attribute 'split'",
     "output_type": "error",
     "traceback": [
      "\u001b[1;31m---------------------------------------------------------------------------\u001b[0m",
      "\u001b[1;31mAttributeError\u001b[0m                            Traceback (most recent call last)",
      "\u001b[1;32m<ipython-input-12-427a356eda48>\u001b[0m in \u001b[0;36m<module>\u001b[1;34m()\u001b[0m\n\u001b[1;32m----> 1\u001b[1;33m \u001b[0mgitt1\u001b[0m\u001b[1;33m[\u001b[0m\u001b[1;34m'TestTime'\u001b[0m\u001b[1;33m]\u001b[0m\u001b[1;33m[\u001b[0m\u001b[1;36m0\u001b[0m\u001b[1;33m]\u001b[0m\u001b[1;33m.\u001b[0m\u001b[0msplit\u001b[0m\u001b[1;33m(\u001b[0m\u001b[1;34m'-'\u001b[0m\u001b[1;33m)\u001b[0m\u001b[1;33m.\u001b[0m\u001b[0msplit\u001b[0m\u001b[1;33m(\u001b[0m\u001b[1;34m':'\u001b[0m\u001b[1;33m)\u001b[0m\u001b[1;33m\u001b[0m\u001b[0m\n\u001b[0m",
      "\u001b[1;31mAttributeError\u001b[0m: 'list' object has no attribute 'split'"
     ]
    }
   ],
   "source": [
    "gitt1['TestTime'][0].split('-')"
   ]
  },
  {
   "cell_type": "code",
   "execution_count": 13,
   "metadata": {},
   "outputs": [
    {
     "data": {
      "text/plain": [
       "['0', '01', '00']"
      ]
     },
     "execution_count": 13,
     "metadata": {},
     "output_type": "execute_result"
    }
   ],
   "source": [
    "gitt1['TestTime'][1].split(':')"
   ]
  },
  {
   "cell_type": "code",
   "execution_count": 27,
   "metadata": {},
   "outputs": [
    {
     "data": {
      "text/plain": [
       "['4', '06:21:07']"
      ]
     },
     "execution_count": 27,
     "metadata": {},
     "output_type": "execute_result"
    }
   ],
   "source": [
    "gitt1['TestTime'][10000].split('-')"
   ]
  },
  {
   "cell_type": "code",
   "execution_count": 28,
   "metadata": {},
   "outputs": [
    {
     "data": {
      "text/plain": [
       "86400"
      ]
     },
     "execution_count": 28,
     "metadata": {},
     "output_type": "execute_result"
    }
   ],
   "source": [
    "24*3600"
   ]
  },
  {
   "cell_type": "code",
   "execution_count": 30,
   "metadata": {},
   "outputs": [
    {
     "data": {
      "text/plain": [
       "'06:21:07'"
      ]
     },
     "execution_count": 30,
     "metadata": {},
     "output_type": "execute_result"
    }
   ],
   "source": [
    "gitt1['TestTime'][10000].split('-')[1]"
   ]
  },
  {
   "cell_type": "code",
   "execution_count": 35,
   "metadata": {},
   "outputs": [
    {
     "data": {
      "text/plain": [
       "True"
      ]
     },
     "execution_count": 35,
     "metadata": {},
     "output_type": "execute_result"
    }
   ],
   "source": [
    "'-' not in gitt1['TestTime'][i].split('-')"
   ]
  },
  {
   "cell_type": "code",
   "execution_count": 41,
   "metadata": {},
   "outputs": [],
   "source": [
    "# Cleaning up Kevin's Data\n",
    "\n",
    "time = np.zeros(len(gitt1['TestTime']))\n",
    "\n",
    "for i in range(len(gitt1['TestTime'])):\n",
    "    if '-' not in gitt1['TestTime'][i]:\n",
    "        hr = float(gitt1['TestTime'][i].split(':')[0]) * 3600\n",
    "        mins = float(gitt1['TestTime'][i].split(':')[1]) * 60\n",
    "        sec = float(gitt1['TestTime'][i].split(':')[2])\n",
    "        time[i] = hr + mins + sec\n",
    "    if '-' in gitt1['TestTime'][i]:\n",
    "        #print(gitt1['TestTime'][i].split('-'))\n",
    "        day = float(gitt1['TestTime'][i].split('-')[0])*86400\n",
    "        idx2 = gitt1['TestTime'][i].split('-')[1]\n",
    "        hr = float(idx2.split(':')[0]) * 3600\n",
    "        mins = float(idx2.split(':')[1]) * 60\n",
    "        sec = float(idx2.split(':')[2])\n",
    "        time[i] = day + hr + mins+ sec"
   ]
  },
  {
   "cell_type": "code",
   "execution_count": 45,
   "metadata": {},
   "outputs": [],
   "source": [
    "gitt1['Time(s)'] = pd.Series(time)"
   ]
  },
  {
   "cell_type": "code",
   "execution_count": 62,
   "metadata": {},
   "outputs": [
    {
     "data": {
      "text/html": [
       "<div>\n",
       "<style scoped>\n",
       "    .dataframe tbody tr th:only-of-type {\n",
       "        vertical-align: middle;\n",
       "    }\n",
       "\n",
       "    .dataframe tbody tr th {\n",
       "        vertical-align: top;\n",
       "    }\n",
       "\n",
       "    .dataframe thead th {\n",
       "        text-align: right;\n",
       "    }\n",
       "</style>\n",
       "<table border=\"1\" class=\"dataframe\">\n",
       "  <thead>\n",
       "    <tr style=\"text-align: right;\">\n",
       "      <th></th>\n",
       "      <th>TestTime</th>\n",
       "      <th>Voltage/V</th>\n",
       "      <th>Current/mA</th>\n",
       "      <th>Time(s)</th>\n",
       "    </tr>\n",
       "  </thead>\n",
       "  <tbody>\n",
       "    <tr>\n",
       "      <th>69529</th>\n",
       "      <td>13-03:31:35</td>\n",
       "      <td>1.7256</td>\n",
       "      <td>0.0</td>\n",
       "      <td>1135895.0</td>\n",
       "    </tr>\n",
       "    <tr>\n",
       "      <th>69530</th>\n",
       "      <td>13-03:32:35</td>\n",
       "      <td>1.7246</td>\n",
       "      <td>0.0</td>\n",
       "      <td>1135955.0</td>\n",
       "    </tr>\n",
       "    <tr>\n",
       "      <th>69531</th>\n",
       "      <td>13-03:33:35</td>\n",
       "      <td>1.7240</td>\n",
       "      <td>0.0</td>\n",
       "      <td>1136015.0</td>\n",
       "    </tr>\n",
       "    <tr>\n",
       "      <th>69532</th>\n",
       "      <td>13-03:34:35</td>\n",
       "      <td>1.7246</td>\n",
       "      <td>0.0</td>\n",
       "      <td>1136075.0</td>\n",
       "    </tr>\n",
       "    <tr>\n",
       "      <th>69533</th>\n",
       "      <td>13-03:35:35</td>\n",
       "      <td>1.7243</td>\n",
       "      <td>0.0</td>\n",
       "      <td>1136135.0</td>\n",
       "    </tr>\n",
       "  </tbody>\n",
       "</table>\n",
       "</div>"
      ],
      "text/plain": [
       "          TestTime  Voltage/V  Current/mA    Time(s)\n",
       "69529  13-03:31:35     1.7256         0.0  1135895.0\n",
       "69530  13-03:32:35     1.7246         0.0  1135955.0\n",
       "69531  13-03:33:35     1.7240         0.0  1136015.0\n",
       "69532  13-03:34:35     1.7246         0.0  1136075.0\n",
       "69533  13-03:35:35     1.7243         0.0  1136135.0"
      ]
     },
     "execution_count": 62,
     "metadata": {},
     "output_type": "execute_result"
    }
   ],
   "source": [
    "gitt1.tail()"
   ]
  },
  {
   "cell_type": "code",
   "execution_count": 57,
   "metadata": {},
   "outputs": [],
   "source": [
    "time = np.array(gitt1['Time(s)'])\n",
    "voltage = np.array(gitt1['Voltage/V'])\n",
    "current = np.array(gitt1['Current/mA'])"
   ]
  },
  {
   "cell_type": "code",
   "execution_count": 60,
   "metadata": {},
   "outputs": [
    {
     "data": {
      "image/png": "[encoded data removed]",
      "text/plain": [
       "<Figure size 432x288 with 1 Axes>"
      ]
     },
     "metadata": {},
     "output_type": "display_data"
    }
   ],
   "source": [
    "plt.plot(time, voltage, label = 'Voltage (V)')\n",
    "plt.plot(time, current, label = 'Current (mA)')\n",
    "plt.legend()\n",
    "plt.show()"
   ]
  },
  {
   "cell_type": "code",
   "execution_count": null,
   "metadata": {},
   "outputs": [],
   "source": [
    "for i in range(len(current)):\n",
    "    "
   ]
  },
  {
   "cell_type": "code",
   "execution_count": 64,
   "metadata": {},
   "outputs": [],
   "source": [
    "workingcurrent = np.argwhere(current != 0)\n",
    "\n",
    "workingcurrent[i + 1] - workingcurrent"
   ]
  },
  {
   "cell_type": "code",
   "execution_count": 73,
   "metadata": {},
   "outputs": [],
   "source": [
    "d = {}\n",
    "startidx = int(workingcurrent[0])\n",
    "cycle = 1\n",
    "\n",
    "for i in range(len(workingcurrent)-1):\n",
    "    if workingcurrent[i + 1] - workingcurrent[i] != 1:\n",
    "        endidx = int(workingcurrent[i +1] - 1)\n",
    "        d[cycle] = gitt1[startidx:endidx]\n",
    "        \n",
    "        startidx = int(workingcurrent[i +1])\n",
    "        cycle = cycle + 1\n",
    "                       "
   ]
  },
  {
   "cell_type": "code",
   "execution_count": 87,
   "metadata": {},
   "outputs": [
    {
     "data": {
      "text/plain": [
       "dict_keys([1, 2, 3, 4, 5, 6, 7, 8, 9, 10, 11, 12, 13, 14, 15, 16, 17, 18, 19, 20, 21, 22, 23, 24, 25, 26, 27, 28, 29, 30, 31, 32, 33, 34, 35, 36, 37, 38, 39, 40, 41, 42, 43])"
      ]
     },
     "execution_count": 87,
     "metadata": {},
     "output_type": "execute_result"
    }
   ],
   "source": [
    "d.keys() # Ignore first key, just full charge/discharge cycles"
   ]
  },
  {
   "cell_type": "code",
   "execution_count": null,
   "metadata": {},
   "outputs": [],
   "source": []
  },
  {
   "cell_type": "code",
   "execution_count": 88,
   "metadata": {},
   "outputs": [
    {
     "data": {
      "text/plain": [
       "[<matplotlib.lines.Line2D at 0x287403032e8>]"
      ]
     },
     "execution_count": 88,
     "metadata": {},
     "output_type": "execute_result"
    },
    {
     "data": {
      "image/png": "[encoded data removed]",
      "text/plain": [
       "<Figure size 432x288 with 1 Axes>"
      ]
     },
     "metadata": {},
     "output_type": "display_data"
    }
   ],
   "source": [
    "i = 2\n",
    "plt.plot(d[i]['Time(s)'], d[i]['Voltage/V'])\n",
    "plt.plot(d[i]['Time(s)'], d[i]['Current/mA'])"
   ]
  },
  {
   "cell_type": "code",
   "execution_count": 89,
   "metadata": {},
   "outputs": [
    {
     "data": {
      "text/plain": [
       "[<matplotlib.lines.Line2D at 0x2873ff63080>]"
      ]
     },
     "execution_count": 89,
     "metadata": {},
     "output_type": "execute_result"
    },
    {
     "data": {
      "image/png": "[encoded data removed]",
      "text/plain": [
       "<Figure size 432x288 with 1 Axes>"
      ]
     },
     "metadata": {},
     "output_type": "display_data"
    }
   ],
   "source": [
    "i = 16\n",
    "plt.plot(d[i]['Time(s)'], d[i]['Voltage/V'])\n",
    "plt.plot(d[i]['Time(s)'], d[i]['Current/mA'])"
   ]
  },
  {
   "cell_type": "code",
   "execution_count": 67,
   "metadata": {},
   "outputs": [
    {
     "data": {
      "text/plain": [
       "69534"
      ]
     },
     "execution_count": 67,
     "metadata": {},
     "output_type": "execute_result"
    }
   ],
   "source": [
    "len(current)"
   ]
  },
  {
   "cell_type": "code",
   "execution_count": 61,
   "metadata": {},
   "outputs": [
    {
     "data": {
      "text/plain": [
       "345600"
      ]
     },
     "execution_count": 61,
     "metadata": {},
     "output_type": "execute_result"
    }
   ],
   "source": [
    "4*86400"
   ]
  },
  {
   "cell_type": "code",
   "execution_count": null,
   "metadata": {},
   "outputs": [],
   "source": [
    "525600 # min / year"
   ]
  }
 ],
 "metadata": {
  "kernelspec": {
   "display_name": "Python 3",
   "language": "python",
   "name": "python3"
  },
  "language_info": {
   "codemirror_mode": {
    "name": "ipython",
    "version": 3
   },
   "file_extension": ".py",
   "mimetype": "text/x-python",
   "name": "python",
   "nbconvert_exporter": "python",
   "pygments_lexer": "ipython3",
   "version": "3.6.5"
  }
 },
 "nbformat": 4,
 "nbformat_minor": 2
}
